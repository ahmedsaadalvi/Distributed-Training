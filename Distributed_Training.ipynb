{
  "nbformat": 4,
  "nbformat_minor": 0,
  "metadata": {
    "colab": {
      "provenance": [],
      "authorship_tag": "ABX9TyMhV+88eMCW76ilRtTWdrNI",
      "include_colab_link": true
    },
    "kernelspec": {
      "name": "python3",
      "display_name": "Python 3"
    },
    "language_info": {
      "name": "python"
    }
  },
  "cells": [
    {
      "cell_type": "markdown",
      "metadata": {
        "id": "view-in-github",
        "colab_type": "text"
      },
      "source": [
        "<a href=\"https://colab.research.google.com/github/ahmedsaadalvi/Distributed-Training/blob/main/Distributed_Training.ipynb\" target=\"_parent\"><img src=\"https://colab.research.google.com/assets/colab-badge.svg\" alt=\"Open In Colab\"/></a>"
      ]
    },
    {
      "cell_type": "code",
      "execution_count": 2,
      "metadata": {
        "colab": {
          "base_uri": "https://localhost:8080/"
        },
        "id": "-D6nD8MmXeiw",
        "outputId": "59947c58-10d1-47ea-aac3-c9ab1579e102"
      },
      "outputs": [
        {
          "output_type": "stream",
          "name": "stdout",
          "text": [
            "\u001b[31mERROR: Could not find a version that satisfies the requirement tensorflow-gpu==2.0.0.alpha0 (from versions: 2.8.0rc0, 2.8.0rc1, 2.8.0, 2.8.1, 2.8.2, 2.8.3, 2.8.4, 2.9.0rc0, 2.9.0rc1, 2.9.0rc2, 2.9.0, 2.9.1, 2.9.2, 2.9.3, 2.10.0rc0, 2.10.0rc1, 2.10.0rc2, 2.10.0rc3, 2.10.0, 2.10.1, 2.11.0rc0, 2.11.0rc1, 2.11.0rc2, 2.11.0, 2.12.0)\u001b[0m\u001b[31m\n",
            "\u001b[0m\u001b[31mERROR: No matching distribution found for tensorflow-gpu==2.0.0.alpha0\u001b[0m\u001b[31m\n",
            "\u001b[0mDownloading data from https://storage.googleapis.com/tensorflow/tf-keras-datasets/mnist.npz\n",
            "11490434/11490434 [==============================] - 0s 0us/step\n"
          ]
        }
      ],
      "source": [
        "!pip install tensorflow-gpu==2.0.0.alpha0\n",
        "\n",
        "import time\n",
        "import numpy as np\n",
        "import tensorflow as tf\n",
        "\n",
        "(X_train, y_train), (X_test, y_test) = tf.keras.datasets.mnist.load_data()"
      ]
    },
    {
      "cell_type": "code",
      "source": [
        "X_train = X_train / 255.\n",
        "X_test = X_test / 255.\n",
        "\n",
        "X_train = X_train.reshape(-1, 28*28)\n",
        "X_test = X_test.reshape(-1, 28*28)\n",
        "\n",
        "model_normal = tf.keras.models.Sequential()\n",
        "model_normal.add(tf.keras.layers.Dense(units=128, activation='relu', input_shape=(784,)))\n",
        "model_normal.add(tf.keras.layers.Dropout(rate=0.2))\n",
        "model_normal.add(tf.keras.layers.Dense(units=10, activation='softmax'))\n",
        "model_normal.compile(optimizer='adam', loss='sparse_categorical_crossentropy', metrics=['sparse_categorical_accuracy'])\n",
        "\n",
        "distribute = tf.distribute.MirroredStrategy()\n",
        "\n",
        "with distribute.scope():\n",
        "  model_distributed = tf.keras.models.Sequential()\n",
        "  model_distributed.add(tf.keras.layers.Dense(units=128, activation='relu', input_shape=(784,)))\n",
        "  model_distributed.add(tf.keras.layers.Dropout(rate=0.2))\n",
        "  model_distributed.add(tf.keras.layers.Dense(units=10, activation='softmax'))\n",
        "  model_distributed.compile(optimizer='adam', loss='sparse_categorical_crossentropy', metrics=['sparse_categorical_accuracy'])\n",
        "\n",
        "start_time = time.time()\n",
        "model_distributed.fit(X_train, y_train, epochs=10, batch_size=25)\n",
        "print(\"Distributed training took: {}\".format(time.time() - start_time))"
      ],
      "metadata": {
        "colab": {
          "base_uri": "https://localhost:8080/"
        },
        "id": "rixCFHh8XmP9",
        "outputId": "9668cfd5-d9fd-4b97-bd17-58323e3ffb34"
      },
      "execution_count": 3,
      "outputs": [
        {
          "output_type": "stream",
          "name": "stdout",
          "text": [
            "Epoch 1/10\n",
            "2400/2400 [==============================] - 14s 5ms/step - loss: 0.2867 - sparse_categorical_accuracy: 0.9161\n",
            "Epoch 2/10\n",
            "2400/2400 [==============================] - 12s 5ms/step - loss: 0.1416 - sparse_categorical_accuracy: 0.9582\n",
            "Epoch 3/10\n",
            "2400/2400 [==============================] - 12s 5ms/step - loss: 0.1073 - sparse_categorical_accuracy: 0.9670\n",
            "Epoch 4/10\n",
            "2400/2400 [==============================] - 12s 5ms/step - loss: 0.0883 - sparse_categorical_accuracy: 0.9723\n",
            "Epoch 5/10\n",
            "2400/2400 [==============================] - 11s 5ms/step - loss: 0.0767 - sparse_categorical_accuracy: 0.9764\n",
            "Epoch 6/10\n",
            "2400/2400 [==============================] - 11s 4ms/step - loss: 0.0658 - sparse_categorical_accuracy: 0.9791\n",
            "Epoch 7/10\n",
            "2400/2400 [==============================] - 13s 5ms/step - loss: 0.0600 - sparse_categorical_accuracy: 0.9804\n",
            "Epoch 8/10\n",
            "2400/2400 [==============================] - 12s 5ms/step - loss: 0.0528 - sparse_categorical_accuracy: 0.9824\n",
            "Epoch 9/10\n",
            "2400/2400 [==============================] - 12s 5ms/step - loss: 0.0488 - sparse_categorical_accuracy: 0.9840\n",
            "Epoch 10/10\n",
            "2400/2400 [==============================] - 12s 5ms/step - loss: 0.0445 - sparse_categorical_accuracy: 0.9853\n",
            "Distributed training took: 143.69125628471375\n"
          ]
        }
      ]
    }
  ]
}